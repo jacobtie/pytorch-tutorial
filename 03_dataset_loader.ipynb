{
 "cells": [
  {
   "cell_type": "code",
   "execution_count": 1,
   "metadata": {},
   "outputs": [],
   "source": [
    "import torch\n",
    "import torchvision\n",
    "from torch.utils.data import Dataset, DataLoader\n",
    "import numpy as np\n",
    "import math"
   ]
  },
  {
   "cell_type": "code",
   "execution_count": 16,
   "metadata": {},
   "outputs": [],
   "source": [
    "class WineDataset(Dataset):\n",
    "\n",
    "    def __init__(self, transform=None):\n",
    "        xy = np.loadtxt('./data/wine.csv', delimiter=',', dtype=np.float32, skiprows=1)\n",
    "        self.X, self.y = xy[:, 1:], xy[:, [0]]\n",
    "        self.n_samples = xy.shape[0]\n",
    "\n",
    "        self.transform = transform\n",
    "\n",
    "    def __getitem__(self, index):\n",
    "        sample = self.X[index], self.y[index]\n",
    "        if self.transform is not None:\n",
    "            sample = self.transform(sample)\n",
    "        return sample\n",
    "\n",
    "    def __len__(self):\n",
    "        return self.n_samples"
   ]
  },
  {
   "cell_type": "code",
   "execution_count": 23,
   "metadata": {},
   "outputs": [],
   "source": [
    "class ToTensor:\n",
    "    def __call__(self, sample):\n",
    "        inputs, targets = sample\n",
    "        return torch.from_numpy(inputs), torch.from_numpy(targets)\n",
    "\n",
    "class MulTransform:\n",
    "    def __init__(self, factor):\n",
    "        self.factor = factor\n",
    "\n",
    "    def __call__(self, sample):\n",
    "        inputs, target = sample\n",
    "        inputs *= self.factor\n",
    "        return inputs, target"
   ]
  },
  {
   "cell_type": "code",
   "execution_count": 27,
   "metadata": {},
   "outputs": [],
   "source": [
    "dataset = WineDataset(transform=torchvision.transforms.Compose([\n",
    "    ToTensor(),\n",
    "    MulTransform(4)\n",
    "]))"
   ]
  },
  {
   "cell_type": "code",
   "execution_count": 28,
   "metadata": {},
   "outputs": [
    {
     "name": "stdout",
     "output_type": "stream",
     "text": [
      "tensor([5.6920e+01, 6.8400e+00, 9.7200e+00, 6.2400e+01, 5.0800e+02, 1.1200e+01,\n",
      "        1.2240e+01, 1.1200e+00, 9.1600e+00, 2.2560e+01, 4.1600e+00, 1.5680e+01,\n",
      "        4.2600e+03]) tensor([1.])\n"
     ]
    }
   ],
   "source": [
    "first_data = dataset[0]\n",
    "features, labels = first_data\n",
    "print(features, labels)"
   ]
  },
  {
   "cell_type": "code",
   "execution_count": 20,
   "metadata": {},
   "outputs": [],
   "source": [
    "dataloader = DataLoader(dataset=dataset, batch_size=4, shuffle=True, num_workers=2)"
   ]
  },
  {
   "cell_type": "code",
   "execution_count": 21,
   "metadata": {},
   "outputs": [
    {
     "name": "stdout",
     "output_type": "stream",
     "text": [
      "2 178 45\n"
     ]
    }
   ],
   "source": [
    "# training loop\n",
    "num_epochs = 2\n",
    "total_samples = len(dataset)\n",
    "n_iterations = math.ceil(total_samples / 4)\n",
    "print(num_epochs, total_samples, n_iterations)"
   ]
  },
  {
   "cell_type": "code",
   "execution_count": 22,
   "metadata": {},
   "outputs": [
    {
     "name": "stdout",
     "output_type": "stream",
     "text": [
      "epoch: 1/2, step 5/45, inputs torch.Size([4, 13])\n",
      "epoch: 1/2, step 10/45, inputs torch.Size([4, 13])\n",
      "epoch: 1/2, step 15/45, inputs torch.Size([4, 13])\n",
      "epoch: 1/2, step 20/45, inputs torch.Size([4, 13])\n",
      "epoch: 1/2, step 25/45, inputs torch.Size([4, 13])\n",
      "epoch: 1/2, step 30/45, inputs torch.Size([4, 13])\n",
      "epoch: 1/2, step 35/45, inputs torch.Size([4, 13])\n",
      "epoch: 1/2, step 40/45, inputs torch.Size([4, 13])\n",
      "epoch: 1/2, step 45/45, inputs torch.Size([2, 13])\n",
      "epoch: 2/2, step 5/45, inputs torch.Size([4, 13])\n",
      "epoch: 2/2, step 10/45, inputs torch.Size([4, 13])\n",
      "epoch: 2/2, step 15/45, inputs torch.Size([4, 13])\n",
      "epoch: 2/2, step 20/45, inputs torch.Size([4, 13])\n",
      "epoch: 2/2, step 25/45, inputs torch.Size([4, 13])\n",
      "epoch: 2/2, step 30/45, inputs torch.Size([4, 13])\n",
      "epoch: 2/2, step 35/45, inputs torch.Size([4, 13])\n",
      "epoch: 2/2, step 40/45, inputs torch.Size([4, 13])\n",
      "epoch: 2/2, step 45/45, inputs torch.Size([2, 13])\n"
     ]
    }
   ],
   "source": [
    "for epoch in range(num_epochs):\n",
    "    for i, (inputs, labels) in enumerate(dataloader):\n",
    "        # forward pass -> backward pass -> update weights\n",
    "        if (i + 1) % 5 == 0:\n",
    "            print(f'epoch: {epoch + 1}/{num_epochs}, step {i + 1}/{n_iterations}, inputs {inputs.shape}')"
   ]
  }
 ],
 "metadata": {
  "kernelspec": {
   "display_name": "Python 3.10.7 ('venv': venv)",
   "language": "python",
   "name": "python3"
  },
  "language_info": {
   "codemirror_mode": {
    "name": "ipython",
    "version": 3
   },
   "file_extension": ".py",
   "mimetype": "text/x-python",
   "name": "python",
   "nbconvert_exporter": "python",
   "pygments_lexer": "ipython3",
   "version": "3.9.14"
  },
  "orig_nbformat": 4,
  "vscode": {
   "interpreter": {
    "hash": "ec2b370f705fed38fdfca36b18f6ca706b3703ab01f2401b8441a0673f1390d5"
   }
  }
 },
 "nbformat": 4,
 "nbformat_minor": 2
}
